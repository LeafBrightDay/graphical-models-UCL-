{
 "cells": [
  {
   "cell_type": "code",
   "execution_count": 1,
   "metadata": {},
   "outputs": [],
   "source": [
    "import numpy as np\n",
    "H=np.loadtxt('H_correct.txt')\n",
    "y=np.loadtxt('y1.txt')"
   ]
  },
  {
   "cell_type": "code",
   "execution_count": 33,
   "metadata": {},
   "outputs": [],
   "source": [
    "n_iter,output,result = LDPC_Decoder(y, H, p=0.1)"
   ]
  },
  {
   "cell_type": "code",
   "execution_count": 34,
   "metadata": {},
   "outputs": [
    {
     "data": {
      "text/plain": [
       "8"
      ]
     },
     "execution_count": 34,
     "metadata": {},
     "output_type": "execute_result"
    }
   ],
   "source": [
    "n_iter"
   ]
  },
  {
   "cell_type": "code",
   "execution_count": 35,
   "metadata": {},
   "outputs": [
    {
     "data": {
      "text/plain": [
       "'0 1 0 0 1 0 0 0 0 1 1 0 0 0 0 1 0 1 1 1 0 0 0 0 0 1 1 1 0 0 0 0 0 1 1 1 1 0 0 1 0 0 1 0 0 0 0 0 0 1 0 0 1 0 0 0 0 1 1 0 1 1 1 1 0 1 1 0 1 1 0 0 0 1 1 0 1 0 0 1 0 1 1 0 0 1 0 0 0 1 1 0 0 0 0 1 0 1 1 1 1 0 0 1 0 1 1 1 0 0 1 1 0 0 1 0 0 0 0 1 0 0 1 0 0 0 0 0 0 1 0 0 0 1 0 0 0 1 1 0 1 1 0 1 0 1 1 0 1 0 0 1 0 1 1 1 0 1 0 0 0 1 1 1 0 0 1 0 0 1 1 1 1 0 0 1 0 0 1 0 0 1 1 0 0 1 0 0 0 1 0 0 0 1 1 0 0 0 0 1 0 1 1 1 0 1 1 0 0 1 1 0 1 0 0 1 0 1 1 0 0 1 0 0 0 0 1 0 0 0 0 0 0 0 1 1 1 0 1 0 0 0 1 0 1 0 0 1 0 0 0 0 1 1 0 0 1 1 1 1 1 1 1 1 1 1 0 0 0 0 1 1 0 0 0 0 1 1 0 0 0 0 1 1 0 1 0 1 1 0 0 1 1 0 1 0 1 0 1 0 1 1 1 1 1 1 1 1 0 0 0 0 0 0 0 0 1 1 0 0 1 1 0 0 0 0 0 0 1 1 0 0 1 0 1 0 1 0 0 1 1 1 1 1 1 0 1 0 1 1 0 0 0 0 0 0 1 0 0 1 1 1 1 1 0 1 0 1 0 1 1 0 0 1 1 0 0 1 0 1 0 0 1 1 1 0 1 0 0 0 0 0 1 0 0 1 1 1 0 0 0 0 0 0 0 1 1 0 0 0 0 0 0 1 1 0 0 1 1 0 0 0 0 0 1 0 0 1 1 0 0 1 1 0 0 1 1 0 0 1 1 1 0 0 1 1 1 1 1 1 1 1 0 0 0 0 0 0 1 1 0 0 1 1 0 1 1 0 0 1 0 1 1 0 0 1 0 1 1 0 1 0 0 1 0 1 1 0 0 1 1 0 1 0 0 1 0 1 1 0 0 0 0 0 1 0 1 0 0 0 1 1 0 1 1 0 1 1 1 1 0 0 0 0 1 1 1 1 1 1 0 0 1 1 1 1 1 0 1 0 0 1 1 0 0 1 0 1 1 1 1 1 1 1 0 0 1 0 0 1 1 0 0 1 1 0 1 0 1 0 1 0 0 1 1 0 0 0 1 1 1 1 0 0 0 1 1 0 1 1 0 0 0 1 1 0 1 0 0 1 1 0 0 1 0 1 1 0 1 0 1 0 1 1 1 1 1 0 0 1 0 1 1 0 0 1 1 0 1 1 1 1 1 1 0 0 0 1 0 1 1 1 0 0 1 1 1 1 0 0 0 0 0 0 0 0 0 1 0 1 0 1 1 0 1 1 0 0 0 0 0 0 0 0 1 1 0 0 1 1 1 1 1 1 0 1 1 0 0 1 1 0 1 0 0 1 0 0 1 1 1 0 1 0 0 1 0 1 1 0 1 0 0 0 1 1 0 0 1 1 0 0 1 1 1 1 0 0 1 0 1 0 1 1 0 0 1 0 0 1 1 0 1 0 1 0 0 1 1 1 1 1 0 1 1 0 0 1 1 0 1 0 1 0 0 0 1 1 1 1 1 1 1 0 1 0 1 0 1 0 0 0 0 0 0 1 0 1 1 0 0 1 0 0 0 0 1 0 1 0 1 0 0 1 0 1 0 1 1 1 1 1 0 1 1 0 0 0 1 1 1 1 0 0 0 0 0 0 0 1 0 1 0 1 1 0 1 1 0 0 0 0 1 1 1 1 1 1 0 0 1 1 0 0 0 0 0 0 1 1 0 1 1 0 1 1 1 1 0 0 1 1 0 1 0 1 0 1 1 0 1 0 0 1 1 1 1 1 1 1 1 1 0 0 0 0 1 1 0 0 0 1 1 0 1 1 0 1 0 0 0 1 0 1 0 1 1 0 1 1 1 0 0 1 0 0 1 0 0 1 1 1 0 0 1 1 0 1 0 1 1 0 1 0 1 1 1 0 0 1 0 0 1 0 1 0 1 0 1 0 1 1 1 1 0 1 1 1 0 1 1 0 0 0 1 1 1 1 1 1 1 1 0 1 1 0 1 1 0 0 1 0 1 1 0 0 1 1 1 0'"
      ]
     },
     "execution_count": 35,
     "metadata": {},
     "output_type": "execute_result"
    }
   ],
   "source": [
    "\" \".join(str(x) for x in result)"
   ]
  },
  {
   "cell_type": "code",
   "execution_count": 32,
   "metadata": {},
   "outputs": [],
   "source": [
    "def LDPC_Decoder(y, H, p=0.1, max_iter=20):\n",
    "    \"\"\"\n",
    "    Based on sum-product message passing / Loopy Back Propagation\n",
    "    \n",
    "    parameters\n",
    "    y: received codeword matrix\n",
    "    H: LDPC matrix\n",
    "    p: noise ratio\n",
    "    max_iter: maximum iteration\n",
    "    r: matrix of rise distribution of p(y|xn=0,1)\n",
    "    E: factor-to-variable generated matrix\n",
    "    L: variable-to-factor generated matrix\n",
    "    M: message matrix\n",
    "    \"\"\"\n",
    "    n_iter=1\n",
    "    output=-1\n",
    "    rise,Msg=BSC_initial(y,H) #stage1:initialization\n",
    "    \n",
    "    for i in range(max_iter):\n",
    "        f2v=factor2Var(H,Msg) # stage2: factor-to-variable\n",
    "        v2f=var2factor(rise,f2v) # stage3: variabel-to-factor\n",
    "        result = [0 if v2f[i]>0 else 1 for i in range(len(v2f))]\n",
    "        if sum(H.dot(result)%2)==0:\n",
    "            output=0   # success\n",
    "            return n_iter, output, result\n",
    "        else:\n",
    "            output=-1\n",
    "            \n",
    "        n_iter=n_iter+1 \n",
    "        Msg=update_M(rise,Msg,f2v,H)#update received message\n",
    "    \n",
    "    return n_iter, output, result"
   ]
  },
  {
   "cell_type": "code",
   "execution_count": 24,
   "metadata": {},
   "outputs": [],
   "source": [
    "def var2factor(r,E):\n",
    "    m,n=E.shape\n",
    "    L=np.zeros((n,1))\n",
    "    #variabel-to-factor message passing\n",
    "    L = [r[i]+np.sum(E,0)[i] for i in range(n)]\n",
    "    \n",
    "    return L"
   ]
  },
  {
   "cell_type": "code",
   "execution_count": 25,
   "metadata": {},
   "outputs": [],
   "source": [
    "def BSC_initial(y, H, p=0.1):\n",
    "    r=np.zeros((len(y)))   #rise of distribution\n",
    "    #for BSC, log(P(y|x))= (x-y)(x-y+1)log(p/1-p)\n",
    "    p1 = np.log(p/(1-p)) #x=y\n",
    "    p2 = np.log((1-p)/p) #x!=y\n",
    "    r = [p1 if y[i]==1 else p2 for i in range(len(y))]\n",
    "    M=np.zeros((H.shape))\n",
    "    \n",
    "    #message passing from y to H\n",
    "    for i in range(H.shape[0]):\n",
    "        for j in range(H.shape[1]):\n",
    "            if H[i,j]==1:\n",
    "                M[i,j]=r[j]\n",
    "    \n",
    "    return r,M"
   ]
  },
  {
   "cell_type": "code",
   "execution_count": 26,
   "metadata": {},
   "outputs": [],
   "source": [
    "def factor2Var(H,M):\n",
    "    m,n=H.shape\n",
    "    E=np.zeros((m,n))\n",
    "    #passing all factor-to-variable ones\n",
    "    for i in range(m):\n",
    "        o=get_ones(H[i,:])\n",
    "        for j in o:\n",
    "            result = 1\n",
    "            for k in o:\n",
    "                if k != j:\n",
    "                    result = result * np.tanh(M[i,:][k]/2)\n",
    "            \n",
    "            E[i,j]=np.log((1+result)/(1-result))\n",
    "            \n",
    "    return E"
   ]
  },
  {
   "cell_type": "code",
   "execution_count": 27,
   "metadata": {},
   "outputs": [],
   "source": [
    "def update_M(r,M,E,H):\n",
    "    m,n=M.shape\n",
    "    for i in range(n):\n",
    "        o=get_ones(H[:,i])\n",
    "        for j in o:\n",
    "            result = 0\n",
    "            for k in o:\n",
    "                if k != j:\n",
    "                    result = E[:,i][k]+result\n",
    "            M[j,i]=r[i]+result\n",
    "            \n",
    "    return M"
   ]
  },
  {
   "cell_type": "code",
   "execution_count": 28,
   "metadata": {},
   "outputs": [],
   "source": [
    "def get_ones(o):\n",
    "    idx = 0\n",
    "    l=[]\n",
    "    list_of_o=list(o)\n",
    "    for i in range(list_of_o.count(1)):\n",
    "        new_list = list_of_o[idx:]\n",
    "        step = new_list.index(1) + 1\n",
    "        l.append(idx + new_list.index(1))\n",
    "        idx += step\n",
    "        \n",
    "    return l"
   ]
  },
  {
   "cell_type": "markdown",
   "metadata": {},
   "source": [
    "### P4"
   ]
  },
  {
   "cell_type": "code",
   "execution_count": 12,
   "metadata": {
    "scrolled": true
   },
   "outputs": [],
   "source": [
    "def recover_message(signal):\n",
    "    signal =[signal[h:h+8] for h in range(0,248,8)]\n",
    "    decimal = [int(\"\".join(str(int(s)) for s in sig),2) for sig in signal]\n",
    "    message = \"\".join(chr(dc) for dc in decimal)\n",
    "    \n",
    "    return message"
   ]
  },
  {
   "cell_type": "code",
   "execution_count": 13,
   "metadata": {},
   "outputs": [
    {
     "name": "stdout",
     "output_type": "stream",
     "text": [
      "Happy Holidays! Dmitry&David :)\n"
     ]
    }
   ],
   "source": [
    "message = recover_message(result)\n",
    "print(message)"
   ]
  },
  {
   "cell_type": "code",
   "execution_count": null,
   "metadata": {},
   "outputs": [],
   "source": []
  },
  {
   "cell_type": "code",
   "execution_count": null,
   "metadata": {},
   "outputs": [],
   "source": []
  }
 ],
 "metadata": {
  "kernelspec": {
   "display_name": "Python 3",
   "language": "python",
   "name": "python3"
  },
  "language_info": {
   "codemirror_mode": {
    "name": "ipython",
    "version": 3
   },
   "file_extension": ".py",
   "mimetype": "text/x-python",
   "name": "python",
   "nbconvert_exporter": "python",
   "pygments_lexer": "ipython3",
   "version": "3.6.3"
  }
 },
 "nbformat": 4,
 "nbformat_minor": 2
}
